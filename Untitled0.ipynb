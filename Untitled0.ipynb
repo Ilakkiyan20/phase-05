{
  "nbformat": 4,
  "nbformat_minor": 0,
  "metadata": {
    "colab": {
      "provenance": [],
      "authorship_tag": "ABX9TyOzuu8c7qpMEWF8I1N0XDEe",
      "include_colab_link": true
    },
    "kernelspec": {
      "name": "python3",
      "display_name": "Python 3"
    },
    "language_info": {
      "name": "python"
    }
  },
  "cells": [
    {
      "cell_type": "markdown",
      "metadata": {
        "id": "view-in-github",
        "colab_type": "text"
      },
      "source": [
        "<a href=\"https://colab.research.google.com/github/Ilakkiyan20/phase-05/blob/main/Untitled0.ipynb\" target=\"_parent\"><img src=\"https://colab.research.google.com/assets/colab-badge.svg\" alt=\"Open In Colab\"/></a>"
      ]
    },
    {
      "cell_type": "code",
      "execution_count": 1,
      "metadata": {
        "colab": {
          "base_uri": "https://localhost:8080/"
        },
        "id": "z8g5lqhclQqg",
        "outputId": "99e3504d-3899-449b-cd08-6978e59f53f6"
      },
      "outputs": [
        {
          "output_type": "stream",
          "name": "stdout",
          "text": [
            "Starting AI-EBPL Structural Health Monitoring System...\n",
            "\n",
            "Sensor Data: {'strain': 4.3399444304925, 'vibration': 3.4530252361551725, 'temperature': 36.43595784356186}\n",
            "System Status: All Normal\n",
            "\n",
            "Sensor Data: {'strain': 1.441786045043325, 'vibration': 4.687325124044979, 'temperature': 28.60293041207128}\n",
            "System Status: All Normal\n",
            "\n",
            "Sensor Data: {'strain': 2.5646920847888137, 'vibration': 8.41126992694393, 'temperature': 16.07313003854947}\n",
            "System Status: All Normal\n",
            "\n",
            "Sensor Data: {'strain': 4.943741551352967, 'vibration': 8.082418114386762, 'temperature': 26.279168181867384}\n",
            "System Status: ALERT: Anomaly Confirmed!\n",
            "\n",
            "Sensor Data: {'strain': 0.684673387941887, 'vibration': 5.4905101065043755, 'temperature': 28.830463777800105}\n",
            "System Status: All Normal\n",
            "\n",
            "Sensor Data: {'strain': 1.1848817882692366, 'vibration': 5.459639281930446, 'temperature': 23.280828658503633}\n",
            "System Status: All Normal\n",
            "\n",
            "Sensor Data: {'strain': 2.3368932810282392, 'vibration': 9.535285131676705, 'temperature': 35.718780696592034}\n",
            "System Status: All Normal\n",
            "\n",
            "Sensor Data: {'strain': 2.2943137551373183, 'vibration': 7.863486113832181, 'temperature': 33.9349069147235}\n",
            "System Status: All Normal\n",
            "\n",
            "Sensor Data: {'strain': 4.320935932118218, 'vibration': 0.3853865998243, 'temperature': 24.282618673287345}\n",
            "System Status: All Normal\n",
            "\n",
            "Sensor Data: {'strain': 2.3679969639437717, 'vibration': 5.776933363606385, 'temperature': 20.993022337777724}\n",
            "System Status: All Normal\n",
            "\n",
            "Sensor Data: {'strain': 2.222070767050829, 'vibration': 0.8059155384615293, 'temperature': 22.672375362005226}\n",
            "System Status: All Normal\n",
            "\n",
            "Sensor Data: {'strain': 0.658610501023963, 'vibration': 9.826814008185027, 'temperature': 23.179423334461426}\n",
            "System Status: All Normal\n",
            "\n",
            "Sensor Data: {'strain': 4.233541397388982, 'vibration': 8.108937021707598, 'temperature': 19.29089525993284}\n",
            "System Status: ALERT: Anomaly Confirmed!\n",
            "\n",
            "Sensor Data: {'strain': 1.9882547578660532, 'vibration': 7.907514632254246, 'temperature': 36.84935087529876}\n",
            "System Status: All Normal\n",
            "\n",
            "Sensor Data: {'strain': 1.8677862637276583, 'vibration': 5.480520905518505, 'temperature': 26.27670376815759}\n",
            "System Status: All Normal\n",
            "\n"
          ]
        }
      ],
      "source": [
        "import random\n",
        "import time\n",
        "import logging\n",
        "\n",
        "# Configure logging\n",
        "logging.basicConfig(filename=\"shm_log.txt\", level=logging.INFO, format=\"%(asctime)s - %(message)s\")\n",
        "\n",
        "# Simulated sensor data generator\n",
        "def generate_sensor_data():\n",
        "    return {\n",
        "        'strain': random.uniform(0.1, 5.0),  # arbitrary unit\n",
        "        'vibration': random.uniform(0.1, 10.0),  # Hz\n",
        "        'temperature': random.uniform(15.0, 45.0)  # °C\n",
        "    }\n",
        "\n",
        "# Simulated AI model for anomaly detection\n",
        "def ai_model(sensor_data):\n",
        "    if sensor_data['strain'] > 4.0 or sensor_data['vibration'] > 8.0:\n",
        "        return \"Anomaly Detected\"\n",
        "    return \"Normal\"\n",
        "\n",
        "# EBPL rules for verifying AI output\n",
        "def ebpl_verification(sensor_data, ai_output):\n",
        "    # Rule-based validation: confirm anomaly only if multiple parameters exceed thresholds\n",
        "    if ai_output == \"Anomaly Detected\":\n",
        "        if sensor_data['strain'] > 4.0 and sensor_data['vibration'] > 8.0:\n",
        "            return True  # Confirmed anomaly\n",
        "        else:\n",
        "            return False  # False positive\n",
        "    return False\n",
        "\n",
        "# Visualization (console output for simplicity)\n",
        "def display_status(sensor_data, status):\n",
        "    print(f\"Sensor Data: {sensor_data}\")\n",
        "    print(f\"System Status: {status}\\n\")\n",
        "\n",
        "# Real-time monitoring simulation\n",
        "def monitor(duration_seconds=10, interval=1):\n",
        "    start_time = time.time()\n",
        "    while time.time() - start_time < duration_seconds:\n",
        "        data = generate_sensor_data()\n",
        "        ai_result = ai_model(data)\n",
        "        verified = ebpl_verification(data, ai_result)\n",
        "\n",
        "        status = \"ALERT: Anomaly Confirmed!\" if verified else \"All Normal\"\n",
        "        display_status(data, status)\n",
        "\n",
        "        # Log if there's an alert\n",
        "        if verified:\n",
        "            logging.info(f\"Anomaly confirmed with data: {data}\")\n",
        "        elif ai_result == \"Anomaly Detected\":\n",
        "            logging.info(f\"False positive detected by AI, EBPL blocked it. Data: {data}\")\n",
        "\n",
        "        time.sleep(interval)\n",
        "\n",
        "if __name__ == \"__main__\":\n",
        "    print(\"Starting AI-EBPL Structural Health Monitoring System...\\n\")\n",
        "    monitor(duration_seconds=30, interval=2)  # Monitor for 30 seconds"
      ]
    }
  ]
}